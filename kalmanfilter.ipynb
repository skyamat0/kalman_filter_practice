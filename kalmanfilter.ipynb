{
 "cells": [
  {
   "cell_type": "markdown",
   "id": "14b2e8c7-8c5c-418f-ac95-a7bd8c6bdce2",
   "metadata": {},
   "source": [
    "# カルマンフィルタについての実験的コード\n",
    "[こちら](https://www.kalmanfilter.net/JP/alphabeta_jp.html)の記事を参考にしている．\n",
    "\n",
    "記号などは参考の記事に若干の変更を加えている．\n",
    "\n",
    "（注）notebookの数式環境のeqrefがバグってるかも。。。\n",
    "\n",
    "->（20240609）eqref参照せず，ベタ打ちした\n",
    "\n",
    "## カルマンフィルタとは\n",
    "1. 観測データからシステムの状態を推定（補正）する方法\n",
    "\n",
    "## 問題設定１ 静的システム\n",
    "性的システムを推定する．（質量を時間変化しないものとする＝静的システム，質量のようなもの）\n",
    "\n",
    "- $x$: 状態量\n",
    "- $\\hat{x}_n$: n回目の推定値\n",
    "- $z_n$: n回目の測定で得られた観測値\n",
    "\n",
    "$\\hat{x}_n$を\n",
    "\n",
    "$$\n",
    "\\hat{x}_n = \\frac{1}{n}\\sum_{i=1}^{n}z_i \\tag{1}\n",
    "$$\n",
    "と定義する．なおこのとき，$\\hat{x}_n$は観測値の平均と捉えることができる．\n",
    "\n",
    "この元で，\n",
    "$$\n",
    "\\begin{align}\n",
    "    \\hat{x}_n &= \\frac{1}{n}\\sum_{i=1}^{n}z_i  \\\\\n",
    "    &= \\frac{1}{n}\\left( z_n + \\sum_{i=1}^{n-1}z_i \\right) \\\\\n",
    "    &= \\frac{1}{n}z_n + \\frac{n-1}{n} \\cdot \\frac{1}{n-1} \\sum_{i=1}^{n-1}z_i \\tag{2} \n",
    "\\end{align} \n",
    "$$\n",
    "となる．\n",
    "ここで，\n",
    "$$\n",
    "\\hat{x}_{n-1} = \\frac{1}{n-1}\\sum_{i=1}^{n-1}z_i\n",
    "$$\n",
    "であるから，$(2)$式は\n",
    "$$\n",
    "\\begin{align}\n",
    "    \\hat{x}_n &= \\frac{1}{n}z_n + \\frac{n-1}{n} \\cdot \\frac{1}{n-1} \\sum_{i=1}^{n-1}z_i \\\\\n",
    "    &= \\frac{1}{n}z_n + \\frac{n-1}{n} \\hat{x}_{n-1} \\\\\n",
    "    &= \\hat{x}_{n-1} + \\frac{1}{n} (z_n - \\hat{x}_{n-1}) \\tag{3}\n",
    "\\end{align} \n",
    "$$\n",
    "と書ける．ここで，$(1)$式を用いると，全ての観測値$z_k,\\,\\, k=\\{1 \\cdots n\\}$を保存しておく必要があったが，$(3)$式では，$n$回目の観測値と$n-1$回目の推定値があれば計算可能であることに注意する．\n",
    "\n",
    "なお，$(3)$式の$\\frac{1}{n}$はカルマンゲインと呼ばれ，問題固有の値である．このカルマンゲインを$K_n$とすると，一般に$(3)$は，\n",
    "$$\n",
    "\\begin{align}\n",
    "    \\hat{x}_n = \\hat{x}_{n-1} + K_n (z_n - \\hat{x}_{n-1}) \\tag{4}\n",
    "\\end{align} \n",
    "$$\n",
    "と書け，これを状態更新式という．この式は次のような意味である．\n",
    "$$\n",
    "補正された現在の状態の推定値　＝　前の状態→現在の状態の補正された予測値　+　補正値　×　(現在の状態の観測値　ー　前の状態→現在の状態の補正された予測値)\n",
    "$$"
   ]
  },
  {
   "cell_type": "code",
   "execution_count": 24,
   "id": "20ef9ed7-587a-47d1-8c8f-7cf82c6b005e",
   "metadata": {},
   "outputs": [],
   "source": [
    "import numpy as np\n",
    "import matplotlib.pyplot as plt\n",
    "m = 100 # 真の質量\n",
    "n = 20 # 測定回数\n",
    "rng = np.random.default_rng(111)\n",
    "noise = rng.normal(loc=0.0, scale=1.0, size=(n, 1)) # ノイズ\n",
    "observe_f = np.hstack([np.ones(n).reshape(-1,1), noise]) # 状態から観測量を得る関数（＝ベクトル）\n",
    "observables = observe_f @ np.array([[m],[1]])# 観測値 = 真の値＋ノイズ\n",
    "# 状態更新式によってより近い推定値を求める\n",
    "x_hat = 99.26\n",
    "x_hats = np.array([x_hat])\n",
    "for i in range(1, n):\n",
    "    K_n = 1/i\n",
    "    #K_n = 0.1\n",
    "    x_hat = x_hat + K_n * (observables[i-1, :] - x_hat)\n",
    "    x_hats = np.append(x_hats, x_hat)"
   ]
  },
  {
   "cell_type": "code",
   "execution_count": 25,
   "id": "5ef90754-1daa-48a4-86be-dae0b957d035",
   "metadata": {},
   "outputs": [
    {
     "data": {
      "image/png": "[encoded data removed]",
      "text/plain": [
       "<Figure size 640x480 with 1 Axes>"
      ]
     },
     "metadata": {},
     "output_type": "display_data"
    }
   ],
   "source": [
    "plt.hlines(xmin=1, xmax=n, y=m)\n",
    "plt.scatter(np.arange(1, n+1), observables, label=\"observable\")\n",
    "plt.scatter(np.arange(1, n+1), x_hats, label=\"estimate\")\n",
    "plt.xticks(np.arange(1, n+1))\n",
    "plt.legend()\n",
    "plt.show()"
   ]
  },
  {
   "cell_type": "markdown",
   "id": "af16969c-557f-4126-a8ef-cf01d1f87bc3",
   "metadata": {},
   "source": [
    "## 問題設定２　動的システム（１次元系）\n",
    "等速運動をする物体の位置を$x$として，それを推定する．（具体的には，飛んでる飛行機の位置座標を$x$として，レーダーを用いて観測する）\n",
    "\n",
    "今，時刻$n$における物体の位置および速度をそれぞれ$\\boldsymbol{x}_n,\\, \\boldsymbol{v}_n$とする．このとき，$\\dot{\\boldsymbol{x}}$を\n",
    "$$\n",
    "\\dot{\\boldsymbol{x}} = \\boldsymbol{v} = \\frac{d\\boldsymbol{x}}{dt}\n",
    "$$\n",
    "とし，物体の位置を観測する時間間隔を$\\Delta t$として$\\boldsymbol{v}$を離散化すれば，\n",
    "$$\n",
    "\\boldsymbol{v} = \\frac{\\Delta x}{\\Delta t}\n",
    "$$\n",
    "である．また，位置に関して，\n",
    "$$\n",
    "\\boldsymbol{x}_{n+1} = \\boldsymbol{x}_n + \\Delta t \\dot{\\boldsymbol{x}}_n \\tag{1}\n",
    "$$\n",
    "である．さらに，等速運動であるので\n",
    "$$\n",
    "\\dot{\\boldsymbol{x}}_{n+1} = \\dot{\\boldsymbol{x}}_n\n",
    "$$\n",
    "である．これら２式を状態方程式と呼び，現在の状態から次の状態の予測値を与える方程式である．\n",
    "\n"
   ]
  },
  {
   "cell_type": "code",
   "execution_count": null,
   "id": "a2c4a7da-0e9c-495d-a48a-c79ee3028e8f",
   "metadata": {},
   "outputs": [],
   "source": []
  }
 ],
 "metadata": {
  "kernelspec": {
   "display_name": "Python 3 (ipykernel)",
   "language": "python",
   "name": "python3"
  },
  "language_info": {
   "codemirror_mode": {
    "name": "ipython",
    "version": 3
   },
   "file_extension": ".py",
   "mimetype": "text/x-python",
   "name": "python",
   "nbconvert_exporter": "python",
   "pygments_lexer": "ipython3",
   "version": "3.12.3"
  }
 },
 "nbformat": 4,
 "nbformat_minor": 5
}
